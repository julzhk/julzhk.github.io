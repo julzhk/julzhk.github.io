{
 "cells": [
  {
   "metadata": {},
   "cell_type": "raw",
   "source": [
    "---\n",
    "title: \"Title\"\n",
    "filters: [remove_title.lua]\n",
    "format:\n",
    "  pdf:\n",
    "    documentclass: report\n",
    "    no-toc: true\n",
    "    no-title: true\n",
    "\n",
    "\n",
    "    classoption: [portrait]\n",
    "    geometry:\n",
    "      - top=20mm\n",
    "      - left=20mm\n",
    "      - heightrounded\n",
    "jupyter: python3\n",
    "execute:\n",
    "  echo: false\n",
    "  enable: false\n",
    "  cache: true\n",
    "---"
   ],
   "id": "954d9caf9d9721b8"
  },
  {
   "metadata": {},
   "cell_type": "code",
   "source": [
    "import os\n",
    "job_ad = \"\"\"\n",
    "This developer needs to be a team player with a great personality. They need to be an awesome individual function well under deadlines, and work  with team\n",
    "mates.\n",
    "\n",
    "Responsibilities\n",
    "\n",
    "Write great code with best practices in modern web development\n",
    "Write to front- and back-end development of client projects\n",
    "Collaborate with teams multiple disciplines (developers, Solution Architects, QA, Project Managers & Product Owners)\n",
    "Take part in client meetings to understand the client's needs\n",
    "\n",
    "Requirements\n",
    "\n",
    "4+ years professional web development experience\n",
    "3+ years Node.js experience, with experience using Nest.js\n",
    "3+ years React.js experience\n",
    "Experience with GraphQL\n",
    "Experience with Tailwind, Bootstrap, or similar CSS frameworks, to create responsive web interfaces\n",
    "Experience using github\n",
    "Experience using JIRA\n",
    "\n",
    "Nice-to-Haves\n",
    "\n",
    "Experience working with agile teams\n",
    "Experience with React Native\n",
    "Digital Agency experience\n",
    "Experience with other backend and frontend web technologies\n",
    "\n",
    "\"\"\""
   ],
   "id": "c07cfda35bd5855e",
   "outputs": [],
   "execution_count": null
  },
  {
   "metadata": {},
   "cell_type": "code",
   "source": [
    "from IPython.display import display, Markdown\n",
    "from openai import OpenAI\n",
    "cv = open('cv.md').read()\n",
    "client = OpenAI(api_key='sk-YOUR-API-KEY')\n",
    "\n",
    "rewrite_cv_prompt = f\"\"\"Tweak the following resume to make it ideally suitable for the job advertised below. Add a section under the header called 'why me?' and add a short paragraph that really shows\n",
    "my suitability for the job. It's important to keep the same Markdown formatting.\n",
    "The job description is:\n",
    "{job_ad}\n",
    "\n",
    "So amend the CV below for this job advert:\n",
    "\n",
    "{cv}\n",
    "\"\"\"\n",
    "response = client.responses.create(\n",
    "    model=\"o4-mini\",\n",
    "    input=rewrite_cv_prompt,\n",
    ")\n"
   ],
   "id": "ab6729608392a75f",
   "outputs": [],
   "execution_count": null
  },
  {
   "metadata": {},
   "cell_type": "code",
   "source": [
    "# save the response to a file\n",
    "CV_DOC = 'output_resume.md'\n",
    "with open(CV_DOC, 'w') as f:\n",
    "    f.write(response.output_text)"
   ],
   "id": "61c0883f201304a3",
   "outputs": [],
   "execution_count": null
  },
  {
   "metadata": {},
   "cell_type": "code",
   "source": [
    "display(Markdown(open('header_cv.md').read()))\n",
    "display(Markdown(open(CV_DOC).read()))"
   ],
   "id": "55e8ebbaa0b7f755",
   "outputs": [],
   "execution_count": null
  },
  {
   "metadata": {},
   "cell_type": "code",
   "source": [
    "import os\n",
    "os.system(f'quarto render cv.ipynb --to pdf >/dev/null 2>&1')\n",
    "print('-end-')"
   ],
   "id": "950cac74110ee9a8",
   "outputs": [],
   "execution_count": null
  }
 ],
 "metadata": {
  "kernelspec": {
   "display_name": "Python 3",
   "language": "python",
   "name": "python3"
  },
  "language_info": {
   "codemirror_mode": {
    "name": "ipython",
    "version": 2
   },
   "file_extension": ".py",
   "mimetype": "text/x-python",
   "name": "python",
   "nbconvert_exporter": "python",
   "pygments_lexer": "ipython2",
   "version": "2.7.6"
  }
 },
 "nbformat": 4,
 "nbformat_minor": 5
}
