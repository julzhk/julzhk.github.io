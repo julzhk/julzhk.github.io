{
 "cells": [
  {
   "metadata": {},
   "cell_type": "raw",
   "source": [
    "---\n",
    "title: \"Website Performance Report\"\n",
    "author: Your name here\n",
    "title-block-banner: true\n",
    "date: today\n",
    "date-format: long\n",
    "format:\n",
    "  pdf:\n",
    "    documentclass: report\n",
    "    classoption: [landscape]\n",
    "    geometry:\n",
    "      - top=30mm\n",
    "      - left=20mm\n",
    "      - heightrounded\n",
    "jupyter: python3\n",
    "execute:\n",
    "  echo: false\n",
    "  enable: false\n",
    "  cache: true\n",
    "---"
   ],
   "id": "e9faec6ca0b67eb0"
  },
  {
   "metadata": {
    "collapsed": true
   },
   "cell_type": "code",
   "outputs": [],
   "execution_count": null,
   "source": [
    "import os\n",
    "os.system('locust -f locustfile.py')\n",
    "# this generates csv files into the 'data' folder - see the locust.conf file for details"
   ],
   "id": "initial_id"
  },
  {
   "metadata": {
    "ExecuteTime": {
     "end_time": "2025-01-27T18:26:23.152789Z",
     "start_time": "2025-01-27T18:26:23.134749Z"
    }
   },
   "cell_type": "code",
   "source": [
    "import pandas as pd\n",
    "df = pd.read_csv('data/blog_data.csv_stats_history.csv')\n",
    "df.dropna()\n",
    "# do some analysis on the data\n",
    "df.drop(['Type','Name','User Count'], axis=1, inplace=True)\n",
    "# add a column for the average\n",
    "df['Average'] = df.mean(axis=1)\n",
    "# format the average as a real number\n",
    "# add a column if the average is above 100\n",
    "df['Acceptable'] = df['Average'] > 100000000\n",
    "df['Acceptable'] = df['Acceptable'].map({True: 'OK', False: 'FAIL'})\n",
    "df['Average'] = df['Average'].map('{:.2f}'.format)\n",
    "# show only time and 'average' columns\n",
    "# show timestamp as readable date\n",
    "df['Date'] = pd.to_datetime(df['Timestamp'], unit='s')\n",
    "df[['Date','99%', 'Average','Acceptable']]"
   ],
   "id": "51f88729c8831aec",
   "outputs": [
    {
     "data": {
      "text/plain": [
       "                  Date    99%       Average Acceptable\n",
       "0  2025-01-27 17:30:15    NaN  173799901.50         OK\n",
       "1  2025-01-27 17:30:16  210.0   82762398.75       FAIL\n",
       "2  2025-01-27 17:30:17  210.0   82762366.99       FAIL\n",
       "3  2025-01-27 17:30:18  210.0   82762372.14       FAIL\n",
       "4  2025-01-27 17:30:19  210.0   82762383.95       FAIL\n",
       "5  2025-01-27 17:30:20  210.0   82762378.84       FAIL\n",
       "6  2025-01-27 17:30:21  210.0   82762382.57       FAIL\n",
       "7  2025-01-27 17:30:22  210.0   82762384.95       FAIL\n",
       "8  2025-01-27 17:30:23  210.0   82762378.06       FAIL\n",
       "9  2025-01-27 17:30:24  210.0   82762375.60       FAIL\n",
       "10 2025-01-27 17:30:25  210.0   82762370.77       FAIL\n",
       "11 2025-01-27 17:30:26  210.0   82762365.06       FAIL\n",
       "12 2025-01-27 17:30:27  210.0   82762360.89       FAIL\n",
       "13 2025-01-27 17:30:28  210.0   82762363.43       FAIL\n",
       "14 2025-01-27 17:30:29  210.0   82762359.05       FAIL\n",
       "15 2025-01-27 17:30:30  210.0   82762351.54       FAIL"
      ],
      "text/html": [
       "<div>\n",
       "<style scoped>\n",
       "    .dataframe tbody tr th:only-of-type {\n",
       "        vertical-align: middle;\n",
       "    }\n",
       "\n",
       "    .dataframe tbody tr th {\n",
       "        vertical-align: top;\n",
       "    }\n",
       "\n",
       "    .dataframe thead th {\n",
       "        text-align: right;\n",
       "    }\n",
       "</style>\n",
       "<table border=\"1\" class=\"dataframe\">\n",
       "  <thead>\n",
       "    <tr style=\"text-align: right;\">\n",
       "      <th></th>\n",
       "      <th>Date</th>\n",
       "      <th>99%</th>\n",
       "      <th>Average</th>\n",
       "      <th>Acceptable</th>\n",
       "    </tr>\n",
       "  </thead>\n",
       "  <tbody>\n",
       "    <tr>\n",
       "      <th>0</th>\n",
       "      <td>2025-01-27 17:30:15</td>\n",
       "      <td>NaN</td>\n",
       "      <td>173799901.50</td>\n",
       "      <td>OK</td>\n",
       "    </tr>\n",
       "    <tr>\n",
       "      <th>1</th>\n",
       "      <td>2025-01-27 17:30:16</td>\n",
       "      <td>210.0</td>\n",
       "      <td>82762398.75</td>\n",
       "      <td>FAIL</td>\n",
       "    </tr>\n",
       "    <tr>\n",
       "      <th>2</th>\n",
       "      <td>2025-01-27 17:30:17</td>\n",
       "      <td>210.0</td>\n",
       "      <td>82762366.99</td>\n",
       "      <td>FAIL</td>\n",
       "    </tr>\n",
       "    <tr>\n",
       "      <th>3</th>\n",
       "      <td>2025-01-27 17:30:18</td>\n",
       "      <td>210.0</td>\n",
       "      <td>82762372.14</td>\n",
       "      <td>FAIL</td>\n",
       "    </tr>\n",
       "    <tr>\n",
       "      <th>4</th>\n",
       "      <td>2025-01-27 17:30:19</td>\n",
       "      <td>210.0</td>\n",
       "      <td>82762383.95</td>\n",
       "      <td>FAIL</td>\n",
       "    </tr>\n",
       "    <tr>\n",
       "      <th>5</th>\n",
       "      <td>2025-01-27 17:30:20</td>\n",
       "      <td>210.0</td>\n",
       "      <td>82762378.84</td>\n",
       "      <td>FAIL</td>\n",
       "    </tr>\n",
       "    <tr>\n",
       "      <th>6</th>\n",
       "      <td>2025-01-27 17:30:21</td>\n",
       "      <td>210.0</td>\n",
       "      <td>82762382.57</td>\n",
       "      <td>FAIL</td>\n",
       "    </tr>\n",
       "    <tr>\n",
       "      <th>7</th>\n",
       "      <td>2025-01-27 17:30:22</td>\n",
       "      <td>210.0</td>\n",
       "      <td>82762384.95</td>\n",
       "      <td>FAIL</td>\n",
       "    </tr>\n",
       "    <tr>\n",
       "      <th>8</th>\n",
       "      <td>2025-01-27 17:30:23</td>\n",
       "      <td>210.0</td>\n",
       "      <td>82762378.06</td>\n",
       "      <td>FAIL</td>\n",
       "    </tr>\n",
       "    <tr>\n",
       "      <th>9</th>\n",
       "      <td>2025-01-27 17:30:24</td>\n",
       "      <td>210.0</td>\n",
       "      <td>82762375.60</td>\n",
       "      <td>FAIL</td>\n",
       "    </tr>\n",
       "    <tr>\n",
       "      <th>10</th>\n",
       "      <td>2025-01-27 17:30:25</td>\n",
       "      <td>210.0</td>\n",
       "      <td>82762370.77</td>\n",
       "      <td>FAIL</td>\n",
       "    </tr>\n",
       "    <tr>\n",
       "      <th>11</th>\n",
       "      <td>2025-01-27 17:30:26</td>\n",
       "      <td>210.0</td>\n",
       "      <td>82762365.06</td>\n",
       "      <td>FAIL</td>\n",
       "    </tr>\n",
       "    <tr>\n",
       "      <th>12</th>\n",
       "      <td>2025-01-27 17:30:27</td>\n",
       "      <td>210.0</td>\n",
       "      <td>82762360.89</td>\n",
       "      <td>FAIL</td>\n",
       "    </tr>\n",
       "    <tr>\n",
       "      <th>13</th>\n",
       "      <td>2025-01-27 17:30:28</td>\n",
       "      <td>210.0</td>\n",
       "      <td>82762363.43</td>\n",
       "      <td>FAIL</td>\n",
       "    </tr>\n",
       "    <tr>\n",
       "      <th>14</th>\n",
       "      <td>2025-01-27 17:30:29</td>\n",
       "      <td>210.0</td>\n",
       "      <td>82762359.05</td>\n",
       "      <td>FAIL</td>\n",
       "    </tr>\n",
       "    <tr>\n",
       "      <th>15</th>\n",
       "      <td>2025-01-27 17:30:30</td>\n",
       "      <td>210.0</td>\n",
       "      <td>82762351.54</td>\n",
       "      <td>FAIL</td>\n",
       "    </tr>\n",
       "  </tbody>\n",
       "</table>\n",
       "</div>"
      ]
     },
     "execution_count": 70,
     "metadata": {},
     "output_type": "execute_result"
    }
   ],
   "execution_count": 70
  },
  {
   "metadata": {},
   "cell_type": "markdown",
   "source": [
    "Discussion of the above data here\n",
    "\n",
    "* The table is raw data;\n",
    "* we'd do some analysis on it for a real report\n",
    "* but we're not going to do that here."
   ],
   "id": "d0a58f6bc59eb84a"
  },
  {
   "metadata": {},
   "cell_type": "markdown",
   "source": [
    "Conclusions\n",
    "---\n",
    "\n",
    "* The average response time is 0.5 seconds\n",
    "* 99% of requests are served in under 1 second\n",
    "* The slowest request is 2 seconds\n",
    "* The report is self-contained and executed from one click\n",
    "* The report file owns the data; the code to analyse and the conclusions - all tied together"
   ],
   "id": "249ba94395584a7"
  },
  {
   "metadata": {
    "ExecuteTime": {
     "end_time": "2025-01-27T22:40:34.884688Z",
     "start_time": "2025-01-27T22:40:31.498095Z"
    }
   },
   "cell_type": "code",
   "source": [
    "os.system(f'quarto render blog_performance_report.ipynb --to pdf >/dev/null 2>&1')\n",
    "print('-end-')"
   ],
   "id": "9abc1b2230639c5b",
   "outputs": [
    {
     "name": "stdout",
     "output_type": "stream",
     "text": [
      "end\n"
     ]
    }
   ],
   "execution_count": 78
  },
  {
   "metadata": {},
   "cell_type": "code",
   "outputs": [],
   "execution_count": null,
   "source": "",
   "id": "e61402d55203b8de"
  }
 ],
 "metadata": {
  "kernelspec": {
   "display_name": "Python 3",
   "language": "python",
   "name": "python3"
  },
  "language_info": {
   "codemirror_mode": {
    "name": "ipython",
    "version": 2
   },
   "file_extension": ".py",
   "mimetype": "text/x-python",
   "name": "python",
   "nbconvert_exporter": "python",
   "pygments_lexer": "ipython2",
   "version": "2.7.6"
  }
 },
 "nbformat": 4,
 "nbformat_minor": 5
}
